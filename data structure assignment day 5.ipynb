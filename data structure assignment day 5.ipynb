{
 "cells": [
  {
   "cell_type": "code",
   "execution_count": 1,
   "id": "7e7e6823-d756-4f64-a480-13e1ada6131c",
   "metadata": {},
   "outputs": [],
   "source": [
    "#List "
   ]
  },
  {
   "cell_type": "code",
   "execution_count": 2,
   "id": "89421053-a89a-48dc-90f4-18615e15019e",
   "metadata": {},
   "outputs": [],
   "source": [
    "# Create empty List, Name it 'a'\n",
    "a=[]"
   ]
  },
  {
   "cell_type": "code",
   "execution_count": 3,
   "id": "7ddb34e5-8990-4546-a8df-6169f23571ca",
   "metadata": {},
   "outputs": [
    {
     "name": "stdout",
     "output_type": "stream",
     "text": [
      "[]\n"
     ]
    }
   ],
   "source": [
    "# Print the value of a \n",
    "print(a)"
   ]
  },
  {
   "cell_type": "code",
   "execution_count": 4,
   "id": "465a834a-64a0-4c03-9fc9-a6cefd697f0c",
   "metadata": {},
   "outputs": [
    {
     "name": "stdout",
     "output_type": "stream",
     "text": [
      "<class 'list'>\n"
     ]
    }
   ],
   "source": [
    "# Print type of a\n",
    "print(type(a))"
   ]
  },
  {
   "cell_type": "code",
   "execution_count": 5,
   "id": "3922d87f-a793-4fc4-9966-0d46b7d7595d",
   "metadata": {},
   "outputs": [],
   "source": [
    "# Create a list, languages = ['R','Python','SAS','Scala',42],"
   ]
  },
  {
   "cell_type": "code",
   "execution_count": 8,
   "id": "49bdbea3-7dd3-4806-974d-fd77c511ca2d",
   "metadata": {},
   "outputs": [
    {
     "name": "stdout",
     "output_type": "stream",
     "text": [
      "['R', 'Python', 'SAS', 'Scala', 42]\n"
     ]
    }
   ],
   "source": [
    "languages=['R','Python','SAS','Scala',42]\n",
    "print(languages)"
   ]
  },
  {
   "cell_type": "code",
   "execution_count": 9,
   "id": "ca772bd5-f0e3-4084-ba25-b32de72be641",
   "metadata": {},
   "outputs": [
    {
     "name": "stdout",
     "output_type": "stream",
     "text": [
      "R\n",
      "Python\n",
      "SAS\n",
      "Scala\n",
      "42\n"
     ]
    }
   ],
   "source": [
    "for word in languages:\n",
    "    print(word)"
   ]
  },
  {
   "cell_type": "code",
   "execution_count": 10,
   "id": "af434f8f-0c30-41ce-afde-9849b3420d2e",
   "metadata": {},
   "outputs": [],
   "source": [
    "temp=languages[1]"
   ]
  },
  {
   "cell_type": "code",
   "execution_count": 12,
   "id": "58fbfd83-e691-4597-b450-780a4d892a99",
   "metadata": {},
   "outputs": [
    {
     "name": "stdout",
     "output_type": "stream",
     "text": [
      "Python <class 'str'>\n"
     ]
    }
   ],
   "source": [
    "print(temp,type(temp))"
   ]
  },
  {
   "cell_type": "code",
   "execution_count": 14,
   "id": "287904a2-69e0-40b9-8b52-a33a77f4c778",
   "metadata": {},
   "outputs": [],
   "source": [
    "languages.append('Java')"
   ]
  },
  {
   "cell_type": "code",
   "execution_count": 15,
   "id": "aedca3a4-6b0f-4d64-90ed-e78f13002e2b",
   "metadata": {},
   "outputs": [
    {
     "name": "stdout",
     "output_type": "stream",
     "text": [
      "['R', 'Python', 'SAS', 'Scala', 42, 'Java']\n"
     ]
    }
   ],
   "source": [
    "print(languages)"
   ]
  },
  {
   "cell_type": "code",
   "execution_count": 16,
   "id": "6c5937b1-85cb-4991-8f71-1e50100a66c8",
   "metadata": {},
   "outputs": [],
   "source": [
    "#Create a list = ['Red','Blue','White']"
   ]
  },
  {
   "cell_type": "code",
   "execution_count": 25,
   "id": "720323cd-01ef-4298-964f-b8e48fcb6c69",
   "metadata": {},
   "outputs": [
    {
     "name": "stdout",
     "output_type": "stream",
     "text": [
      "['Red', 'Blue', 'White']\n"
     ]
    }
   ],
   "source": [
    "colors=['Red','Blue','White']\n",
    "print(colors)"
   ]
  },
  {
   "cell_type": "code",
   "execution_count": 26,
   "id": "f2c8c305-f8e4-47b0-96c2-6affffbba98d",
   "metadata": {},
   "outputs": [],
   "source": [
    "colors.append('Black')"
   ]
  },
  {
   "cell_type": "code",
   "execution_count": 27,
   "id": "e4443c2a-1ce9-4643-b7db-4c1495f8d664",
   "metadata": {},
   "outputs": [
    {
     "name": "stdout",
     "output_type": "stream",
     "text": [
      "['Red', 'Blue', 'White', 'Black']\n"
     ]
    }
   ],
   "source": [
    "print(colors)"
   ]
  },
  {
   "cell_type": "code",
   "execution_count": 28,
   "id": "15ecdd51-2afb-4d70-8707-84b74d5671ff",
   "metadata": {},
   "outputs": [],
   "source": [
    "colors.insert(1,'Orange')"
   ]
  },
  {
   "cell_type": "code",
   "execution_count": 29,
   "id": "b379ce91-6f21-4fb0-b1ac-9013828d9d29",
   "metadata": {},
   "outputs": [
    {
     "name": "stdout",
     "output_type": "stream",
     "text": [
      "['Red', 'Orange', 'Blue', 'White', 'Black']\n"
     ]
    }
   ],
   "source": [
    "print(colors)"
   ]
  },
  {
   "cell_type": "code",
   "execution_count": 31,
   "id": "242db4cd-09ec-490f-929c-df832e3890c6",
   "metadata": {},
   "outputs": [
    {
     "name": "stdout",
     "output_type": "stream",
     "text": [
      "['Grey', 'Sky Blue']\n"
     ]
    }
   ],
   "source": [
    "color2=['Grey','Sky Blue']\n",
    "print(color2)"
   ]
  },
  {
   "cell_type": "code",
   "execution_count": 32,
   "id": "8d0dee80-1191-4103-9dd6-08bb19e08635",
   "metadata": {},
   "outputs": [],
   "source": [
    "colors.extend(color2)"
   ]
  },
  {
   "cell_type": "code",
   "execution_count": 33,
   "id": "cfa162b8-6620-4ae2-b3e0-e167b2008919",
   "metadata": {},
   "outputs": [
    {
     "name": "stdout",
     "output_type": "stream",
     "text": [
      "['Red', 'Orange', 'Blue', 'White', 'Black', 'Grey', 'Sky Blue']\n"
     ]
    }
   ],
   "source": [
    "print(colors)"
   ]
  },
  {
   "cell_type": "code",
   "execution_count": 35,
   "id": "1e537a2d-058f-4e1f-b6d7-f3f2eb0ab06e",
   "metadata": {},
   "outputs": [
    {
     "name": "stdout",
     "output_type": "stream",
     "text": [
      "['Black', 'Blue', 'Grey', 'Orange', 'Red', 'Sky Blue', 'White']\n"
     ]
    }
   ],
   "source": [
    "colors.sort()\n",
    "print(colors)"
   ]
  },
  {
   "cell_type": "code",
   "execution_count": 36,
   "id": "07d875a1-24f3-4f39-a79b-1a58d61d1ab8",
   "metadata": {},
   "outputs": [
    {
     "name": "stdout",
     "output_type": "stream",
     "text": [
      "7\n"
     ]
    }
   ],
   "source": [
    "print(len(colors))"
   ]
  },
  {
   "cell_type": "code",
   "execution_count": 37,
   "id": "ba486a26-b51d-403d-9caf-06fb9d65b7cd",
   "metadata": {},
   "outputs": [],
   "source": [
    "# Create a string, sent = ' Coronavirus Caused Lockdowns Around The World. '"
   ]
  },
  {
   "cell_type": "code",
   "execution_count": 39,
   "id": "25209fde-8563-4f0d-b892-d8fcdf3512f0",
   "metadata": {},
   "outputs": [
    {
     "name": "stdout",
     "output_type": "stream",
     "text": [
      "Coronavirus Caused Lockdowns Around The World\n"
     ]
    }
   ],
   "source": [
    "sent='Coronavirus Caused Lockdowns Around The World'\n",
    "print(sent)"
   ]
  },
  {
   "cell_type": "code",
   "execution_count": 40,
   "id": "266088f8-4b45-46a0-8e3f-f663398690ea",
   "metadata": {},
   "outputs": [
    {
     "name": "stdout",
     "output_type": "stream",
     "text": [
      "['Coronavirus', 'Caused', 'Lockdowns', 'Around', 'The', 'World']\n"
     ]
    }
   ],
   "source": [
    "sent=sent.split()\n",
    "print(sent)"
   ]
  },
  {
   "cell_type": "code",
   "execution_count": 41,
   "id": "b3343ae7-a65d-41c7-a943-216f5ca3a861",
   "metadata": {},
   "outputs": [
    {
     "name": "stdout",
     "output_type": "stream",
     "text": [
      "['coronavirus', 'caused', 'lockdowns', 'around', 'the', 'world']\n"
     ]
    }
   ],
   "source": [
    "words_lower=[word.lower() for word in sent]\n",
    "print(words_lower)"
   ]
  },
  {
   "cell_type": "code",
   "execution_count": 42,
   "id": "494fe51e-40a3-451e-ad62-f8f54357f427",
   "metadata": {},
   "outputs": [
    {
     "name": "stdout",
     "output_type": "stream",
     "text": [
      "N\n"
     ]
    }
   ],
   "source": [
    "if 'country' in words_lower:\n",
    "    print(\"Y\")\n",
    "else:\n",
    "    print(\"N\")"
   ]
  },
  {
   "cell_type": "code",
   "execution_count": 43,
   "id": "d025cc01-9748-4fdc-8177-22b5442ae614",
   "metadata": {},
   "outputs": [
    {
     "name": "stdout",
     "output_type": "stream",
     "text": [
      "['coronavirus', 'caused', 'lockdowns', 'around', 'world']\n"
     ]
    }
   ],
   "source": [
    "words_lower.remove(\"the\")\n",
    "print(words_lower)"
   ]
  },
  {
   "cell_type": "code",
   "execution_count": 44,
   "id": "2587b4b2-39c0-4c2e-9cb9-882862f63e90",
   "metadata": {},
   "outputs": [
    {
     "name": "stdout",
     "output_type": "stream",
     "text": [
      "['coronavirus', 'caused', 'lockdowns', 'around']\n"
     ]
    }
   ],
   "source": [
    "x4=words_lower[:4]\n",
    "print(x4)"
   ]
  },
  {
   "cell_type": "code",
   "execution_count": 45,
   "id": "a3f04207-65dc-435c-afb7-96410766eafe",
   "metadata": {},
   "outputs": [
    {
     "name": "stdout",
     "output_type": "stream",
     "text": [
      "coronaviruscausedlockdownsaround\n"
     ]
    }
   ],
   "source": [
    "x=''.join(x4)\n",
    "print(x)"
   ]
  },
  {
   "cell_type": "code",
   "execution_count": 47,
   "id": "370dfc8f-489b-4543-8df7-fb905f91cb22",
   "metadata": {},
   "outputs": [],
   "source": [
    "# Sets\n",
    "# Create stud_grades = ['A','A','B','C','C','F']"
   ]
  },
  {
   "cell_type": "code",
   "execution_count": 49,
   "id": "16e8e025-2b36-4438-b5c4-fde8e77c5449",
   "metadata": {},
   "outputs": [
    {
     "name": "stdout",
     "output_type": "stream",
     "text": [
      "['A', 'A', 'B', 'C', 'C', 'F']\n"
     ]
    }
   ],
   "source": [
    "stud_grades = ['A','A','B','C','C','F']\n",
    "print(stud_grades)"
   ]
  },
  {
   "cell_type": "code",
   "execution_count": 50,
   "id": "42186dff-0679-420b-a166-5c9beea3199a",
   "metadata": {},
   "outputs": [
    {
     "name": "stdout",
     "output_type": "stream",
     "text": [
      "6\n"
     ]
    }
   ],
   "source": [
    "print(len(stud_grades))"
   ]
  },
  {
   "cell_type": "code",
   "execution_count": 51,
   "id": "5f10a82a-9f24-479c-bfd9-78b78454a15e",
   "metadata": {},
   "outputs": [],
   "source": [
    "stud_grades_set=set(stud_grades)"
   ]
  },
  {
   "cell_type": "code",
   "execution_count": 52,
   "id": "8379de52-b1d1-48b1-bac2-ba213bd5908d",
   "metadata": {},
   "outputs": [
    {
     "name": "stdout",
     "output_type": "stream",
     "text": [
      "<class 'list'>\n",
      "<class 'set'>\n"
     ]
    }
   ],
   "source": [
    "print(type(stud_grades))\n",
    "\n",
    "print(type(stud_grades_set))"
   ]
  },
  {
   "cell_type": "code",
   "execution_count": 54,
   "id": "52eb327b-70c9-4dca-bbaf-956e3d3045ef",
   "metadata": {},
   "outputs": [],
   "source": [
    "stud_grades_set.add(\"G\")"
   ]
  },
  {
   "cell_type": "code",
   "execution_count": 55,
   "id": "785aefe1-2af8-48b9-bde8-85036bb6085f",
   "metadata": {},
   "outputs": [],
   "source": [
    "stud_grades_set.add(\"F\")"
   ]
  },
  {
   "cell_type": "code",
   "execution_count": 56,
   "id": "2c9a9be4-7a0b-4db0-b45a-a8feb842c193",
   "metadata": {},
   "outputs": [
    {
     "name": "stdout",
     "output_type": "stream",
     "text": [
      "{'A', 'F', 'C', 'G', 'B'}\n"
     ]
    }
   ],
   "source": [
    "print(stud_grades_set)"
   ]
  },
  {
   "cell_type": "code",
   "execution_count": 57,
   "id": "9cf2525b-6fc7-4735-a16e-2fc157c189f2",
   "metadata": {},
   "outputs": [
    {
     "name": "stdout",
     "output_type": "stream",
     "text": [
      "{'A', 'C', 'G', 'B'}\n"
     ]
    }
   ],
   "source": [
    "stud_grades_set.remove('F')\n",
    "print(stud_grades_set)"
   ]
  },
  {
   "cell_type": "code",
   "execution_count": 58,
   "id": "2ca64a2d-d0ba-40d7-9c25-a7cde0b34130",
   "metadata": {},
   "outputs": [],
   "source": [
    "# Create colors = ['red','blue','orange'],and fruits = ['orange','grapes','apples']"
   ]
  },
  {
   "cell_type": "code",
   "execution_count": 59,
   "id": "1342ada3-4069-44bb-9e04-17f6aa25b93d",
   "metadata": {},
   "outputs": [],
   "source": [
    "colors = {'red','blue','orange'}\n",
    "fruits = {'orange','grapes','apples'}"
   ]
  },
  {
   "cell_type": "code",
   "execution_count": 60,
   "id": "1bb06999-1694-4539-843f-9854132ab1bb",
   "metadata": {},
   "outputs": [
    {
     "name": "stdout",
     "output_type": "stream",
     "text": [
      "{'blue', 'red', 'orange'}\n",
      "{'grapes', 'orange', 'apples'}\n"
     ]
    }
   ],
   "source": [
    "print(colors)\n",
    "print(fruits)"
   ]
  },
  {
   "cell_type": "code",
   "execution_count": 62,
   "id": "72f1c905-dad0-4fd3-8a98-51a62d84a3f7",
   "metadata": {},
   "outputs": [],
   "source": [
    "colors_set=set(colors)\n",
    "fruits_set=set(fruits)"
   ]
  },
  {
   "cell_type": "code",
   "execution_count": 63,
   "id": "476ba27d-c815-4ef7-a4ff-e03eee141609",
   "metadata": {},
   "outputs": [
    {
     "data": {
      "text/plain": [
       "{'apples', 'blue', 'grapes', 'orange', 'red'}"
      ]
     },
     "execution_count": 63,
     "metadata": {},
     "output_type": "execute_result"
    }
   ],
   "source": [
    "colors_set.union(fruits_set)"
   ]
  },
  {
   "cell_type": "code",
   "execution_count": 65,
   "id": "11291b4a-1a4b-4cfe-871c-bf5ee9f170f6",
   "metadata": {},
   "outputs": [
    {
     "data": {
      "text/plain": [
       "{'orange'}"
      ]
     },
     "execution_count": 65,
     "metadata": {},
     "output_type": "execute_result"
    }
   ],
   "source": [
    "colors_set.intersection(fruits_set)"
   ]
  },
  {
   "cell_type": "code",
   "execution_count": 66,
   "id": "106366e6-0357-4771-b76c-23b5981179b2",
   "metadata": {},
   "outputs": [
    {
     "data": {
      "text/plain": [
       "{'apples', 'grapes'}"
      ]
     },
     "execution_count": 66,
     "metadata": {},
     "output_type": "execute_result"
    }
   ],
   "source": [
    "fruits_set.difference(colors_set)"
   ]
  },
  {
   "cell_type": "code",
   "execution_count": 68,
   "id": "488416ba-e305-4206-87ea-e910cf719fef",
   "metadata": {},
   "outputs": [],
   "source": [
    "# Tuples\n",
    "# Create temp = [17,'Virat',50.0]"
   ]
  },
  {
   "cell_type": "code",
   "execution_count": 70,
   "id": "f4a011b9-d239-44d1-ba1f-f8c55b12200c",
   "metadata": {},
   "outputs": [
    {
     "name": "stdout",
     "output_type": "stream",
     "text": [
      "[17, 'Virat', 50.0]\n"
     ]
    }
   ],
   "source": [
    "temp = [17,'Virat',50.0]\n",
    "print(temp)"
   ]
  },
  {
   "cell_type": "code",
   "execution_count": 71,
   "id": "21f943c7-8ba4-4e0d-beb3-b1d9d228903b",
   "metadata": {},
   "outputs": [],
   "source": [
    "temp[0]=11"
   ]
  },
  {
   "cell_type": "code",
   "execution_count": 72,
   "id": "a25ab1b7-de24-4063-a817-c9c096db2c74",
   "metadata": {},
   "outputs": [
    {
     "name": "stdout",
     "output_type": "stream",
     "text": [
      "(11, 'Virat', 50.0)\n"
     ]
    }
   ],
   "source": [
    "temp1=tuple(temp)\n",
    "print(temp1)"
   ]
  },
  {
   "cell_type": "code",
   "execution_count": 74,
   "id": "f002ad2e-acbd-4ee3-b006-421a82a34ead",
   "metadata": {},
   "outputs": [
    {
     "name": "stdout",
     "output_type": "stream",
     "text": [
      "11\n",
      "Virat\n",
      "50.0\n"
     ]
    }
   ],
   "source": [
    "for letter in temp1:\n",
    "    print(letter)"
   ]
  },
  {
   "cell_type": "code",
   "execution_count": 75,
   "id": "c2b395b3-c68c-4b33-b590-19acaed3aa38",
   "metadata": {},
   "outputs": [
    {
     "ename": "TypeError",
     "evalue": "'tuple' object does not support item assignment",
     "output_type": "error",
     "traceback": [
      "\u001b[1;31m---------------------------------------------------------------------------\u001b[0m",
      "\u001b[1;31mTypeError\u001b[0m                                 Traceback (most recent call last)",
      "Cell \u001b[1;32mIn[75], line 1\u001b[0m\n\u001b[1;32m----> 1\u001b[0m temp1[\u001b[38;5;241m0\u001b[39m]\u001b[38;5;241m=\u001b[39m\u001b[38;5;241m17\u001b[39m\n",
      "\u001b[1;31mTypeError\u001b[0m: 'tuple' object does not support item assignment"
     ]
    }
   ],
   "source": [
    "temp1[0]=17"
   ]
  },
  {
   "cell_type": "code",
   "execution_count": 76,
   "id": "94645f6c-498e-4506-9f1a-ed592a928263",
   "metadata": {},
   "outputs": [],
   "source": [
    "# Create city = (\"Banglore\",28.9949521,72)"
   ]
  },
  {
   "cell_type": "code",
   "execution_count": 77,
   "id": "52000af1-3cd8-4eaa-83b0-ad27b43dee70",
   "metadata": {},
   "outputs": [
    {
     "name": "stdout",
     "output_type": "stream",
     "text": [
      "('Banglore', 28.9949521, 72)\n"
     ]
    }
   ],
   "source": [
    "city = (\"Banglore\",28.9949521,72)\n",
    "print(city)"
   ]
  },
  {
   "cell_type": "code",
   "execution_count": 79,
   "id": "8cacaeea-8273-44ff-9d27-ac1cae813c89",
   "metadata": {},
   "outputs": [
    {
     "data": {
      "text/plain": [
       "'Banglore'"
      ]
     },
     "execution_count": 79,
     "metadata": {},
     "output_type": "execute_result"
    }
   ],
   "source": [
    "city[0]"
   ]
  },
  {
   "cell_type": "code",
   "execution_count": 80,
   "id": "feb6db39-833f-43aa-8b20-1cf517347d3b",
   "metadata": {},
   "outputs": [
    {
     "name": "stdout",
     "output_type": "stream",
     "text": [
      "('Chennai', 30.01, 74)\n"
     ]
    }
   ],
   "source": [
    "city2 = ('Chennai',30.01,74)\n",
    "print(city2)"
   ]
  },
  {
   "cell_type": "code",
   "execution_count": 82,
   "id": "f165d13b-86ac-414c-8908-adc863d66424",
   "metadata": {},
   "outputs": [],
   "source": [
    "cities=[city+city2]"
   ]
  },
  {
   "cell_type": "code",
   "execution_count": 83,
   "id": "46e29d00-b65a-40e0-86ab-11239b5d5203",
   "metadata": {},
   "outputs": [
    {
     "name": "stdout",
     "output_type": "stream",
     "text": [
      "[('Banglore', 28.9949521, 72, 'Chennai', 30.01, 74)]\n"
     ]
    }
   ],
   "source": [
    "print(cities)"
   ]
  },
  {
   "cell_type": "code",
   "execution_count": 84,
   "id": "a3ab8277-0fac-436a-b83b-833b4ac2fcca",
   "metadata": {},
   "outputs": [
    {
     "name": "stdout",
     "output_type": "stream",
     "text": [
      "<class 'tuple'>\n"
     ]
    }
   ],
   "source": [
    "print(type(cities[0]))"
   ]
  },
  {
   "cell_type": "code",
   "execution_count": 85,
   "id": "d1520c7b-1fe5-4d6e-9095-b013b7fc202c",
   "metadata": {},
   "outputs": [
    {
     "name": "stdout",
     "output_type": "stream",
     "text": [
      "<class 'list'>\n"
     ]
    }
   ],
   "source": [
    "print(type(cities))"
   ]
  },
  {
   "cell_type": "code",
   "execution_count": 86,
   "id": "504626e9-7bd5-48ed-ad4d-54b4c047d93f",
   "metadata": {},
   "outputs": [],
   "source": [
    "# Dictionary\n",
    "# Create a dictionary d={\"actor\":\"amir\",\"animal\":\"cat\",\"earth\":2,\"list\":[23,32,12]}"
   ]
  },
  {
   "cell_type": "code",
   "execution_count": 87,
   "id": "a766255a-7a0a-465c-a755-3f08c31cfc1b",
   "metadata": {},
   "outputs": [
    {
     "name": "stdout",
     "output_type": "stream",
     "text": [
      "{'actor': 'amir', 'animal': 'cat', 'earth': 2, 'list': [23, 32, 12]}\n"
     ]
    }
   ],
   "source": [
    "d={\"actor\":\"amir\",\"animal\":\"cat\",\"earth\":2,\"list\":[23,32,12]}\n",
    "print(d)"
   ]
  },
  {
   "cell_type": "code",
   "execution_count": 88,
   "id": "7b191a7c-43e9-44d3-810a-e2ef53d3de6d",
   "metadata": {},
   "outputs": [
    {
     "name": "stdout",
     "output_type": "stream",
     "text": [
      "amir\n"
     ]
    }
   ],
   "source": [
    "print(d['actor'])"
   ]
  },
  {
   "cell_type": "code",
   "execution_count": 89,
   "id": "cc2e19b8-e665-499a-8e9c-56f53f05f516",
   "metadata": {},
   "outputs": [],
   "source": [
    "actor=d['actor']"
   ]
  },
  {
   "cell_type": "code",
   "execution_count": 90,
   "id": "80d9e97e-b650-4b62-881b-5a6ddf55b8be",
   "metadata": {},
   "outputs": [
    {
     "name": "stdout",
     "output_type": "stream",
     "text": [
      "<class 'str'>\n"
     ]
    }
   ],
   "source": [
    "print(type(actor))"
   ]
  },
  {
   "cell_type": "code",
   "execution_count": 91,
   "id": "ee8340b3-b59e-46f2-ab45-6ce6e0e589d8",
   "metadata": {},
   "outputs": [],
   "source": [
    "list=d['list']"
   ]
  },
  {
   "cell_type": "code",
   "execution_count": 92,
   "id": "92d1130f-e209-4188-a507-f4f88e145fcf",
   "metadata": {},
   "outputs": [
    {
     "name": "stdout",
     "output_type": "stream",
     "text": [
      "[23, 32, 12]\n"
     ]
    }
   ],
   "source": [
    "print(list)"
   ]
  },
  {
   "cell_type": "code",
   "execution_count": 93,
   "id": "07da0a1a-aafc-4f0c-8b13-a3d1334e131c",
   "metadata": {},
   "outputs": [],
   "source": [
    "d1={'singer':'Kr$na','album':'Still here','genre':'hip-hop'}"
   ]
  },
  {
   "cell_type": "code",
   "execution_count": 94,
   "id": "b33d7660-7280-45bc-bfc7-64c40302c8a0",
   "metadata": {},
   "outputs": [],
   "source": [
    "d=d|d1"
   ]
  },
  {
   "cell_type": "code",
   "execution_count": 95,
   "id": "b8a9def1-85db-4897-8b48-ed9d57fa781e",
   "metadata": {},
   "outputs": [
    {
     "name": "stdout",
     "output_type": "stream",
     "text": [
      "{'actor': 'amir', 'animal': 'cat', 'earth': 2, 'list': [23, 32, 12], 'singer': 'Kr$na', 'album': 'Still here', 'genre': 'hip-hop'}\n"
     ]
    }
   ],
   "source": [
    "print(d)"
   ]
  },
  {
   "cell_type": "code",
   "execution_count": 96,
   "id": "4fb67536-5272-492a-a012-db61c1e5434f",
   "metadata": {},
   "outputs": [
    {
     "data": {
      "text/plain": [
       "dict_keys(['actor', 'animal', 'earth', 'list', 'singer', 'album', 'genre'])"
      ]
     },
     "execution_count": 96,
     "metadata": {},
     "output_type": "execute_result"
    }
   ],
   "source": [
    "d.keys()"
   ]
  },
  {
   "cell_type": "code",
   "execution_count": 97,
   "id": "fa077fad-0fb8-41a0-8b39-da2b237085bb",
   "metadata": {},
   "outputs": [
    {
     "data": {
      "text/plain": [
       "dict_values(['amir', 'cat', 2, [23, 32, 12], 'Kr$na', 'Still here', 'hip-hop'])"
      ]
     },
     "execution_count": 97,
     "metadata": {},
     "output_type": "execute_result"
    }
   ],
   "source": [
    "d.values()"
   ]
  },
  {
   "cell_type": "code",
   "execution_count": 98,
   "id": "53a8bef8-0e89-46ab-a5f4-0a9c1b5a2831",
   "metadata": {},
   "outputs": [
    {
     "name": "stdout",
     "output_type": "stream",
     "text": [
      "actor------> amir\n",
      "animal------> cat\n",
      "earth------> 2\n",
      "list------> [23, 32, 12]\n",
      "singer------> Kr$na\n",
      "album------> Still here\n",
      "genre------> hip-hop\n"
     ]
    }
   ],
   "source": [
    "for key, value in d.items():\n",
    "    print(f\"{key}------> {value}\")\n",
    "    "
   ]
  },
  {
   "cell_type": "code",
   "execution_count": 100,
   "id": "5f0c3bfe-9ecf-438b-a4a2-320f9b612339",
   "metadata": {},
   "outputs": [],
   "source": [
    "sent=\"sent\"\n",
    "char_count = {}\n",
    "for char in sent:\n",
    "    if char !=\" \":\n",
    "        if char in char_count:\n",
    "            char_count[char] += 1\n",
    "            "
   ]
  },
  {
   "cell_type": "code",
   "execution_count": null,
   "id": "8be61209-510e-4546-a48a-a1d5424aa9aa",
   "metadata": {},
   "outputs": [],
   "source": []
  }
 ],
 "metadata": {
  "kernelspec": {
   "display_name": "Python [conda env:base] *",
   "language": "python",
   "name": "conda-base-py"
  },
  "language_info": {
   "codemirror_mode": {
    "name": "ipython",
    "version": 3
   },
   "file_extension": ".py",
   "mimetype": "text/x-python",
   "name": "python",
   "nbconvert_exporter": "python",
   "pygments_lexer": "ipython3",
   "version": "3.12.7"
  }
 },
 "nbformat": 4,
 "nbformat_minor": 5
}
