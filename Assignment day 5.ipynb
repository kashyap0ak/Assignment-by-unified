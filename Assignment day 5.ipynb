{
 "cells": [
  {
   "cell_type": "code",
   "execution_count": 2,
   "id": "1f32f9fc-a58f-4999-8562-c30a6bd7fca7",
   "metadata": {},
   "outputs": [
    {
     "name": "stdout",
     "output_type": "stream",
     "text": [
      "Anil kumar\n"
     ]
    }
   ],
   "source": [
    "print(\"Anil kumar\") "
   ]
  },
  {
   "cell_type": "code",
   "execution_count": 4,
   "id": "3e9b7e65-54aa-40fd-847c-8f9569afc248",
   "metadata": {},
   "outputs": [],
   "source": [
    "mukesh=7\n",
    "z=6\n",
    "rohan=5\n",
    "longitude=4"
   ]
  },
  {
   "cell_type": "code",
   "execution_count": 5,
   "id": "ffa6e589-27bd-47a9-a3df-eb76844d3668",
   "metadata": {},
   "outputs": [
    {
     "name": "stdout",
     "output_type": "stream",
     "text": [
      "5\n"
     ]
    }
   ],
   "source": [
    "print(rohan)"
   ]
  },
  {
   "cell_type": "code",
   "execution_count": 6,
   "id": "9ec7f0a8-e563-47a5-88ef-24255e10b445",
   "metadata": {},
   "outputs": [],
   "source": [
    "ur_age=21\n",
    "ur_weight=50.6\n",
    "ur_first_name=\"Mukesh\"\n",
    "ur_last_name=\"Manral\""
   ]
  },
  {
   "cell_type": "code",
   "execution_count": 7,
   "id": "26b4d72b-a141-4211-9e53-71e11b893abc",
   "metadata": {},
   "outputs": [],
   "source": [
    "#Data Types(Types of variable)"
   ]
  },
  {
   "cell_type": "code",
   "execution_count": 8,
   "id": "abf454fe-4ecd-4c88-a7fc-272b676cd938",
   "metadata": {},
   "outputs": [
    {
     "name": "stdout",
     "output_type": "stream",
     "text": [
      "<class 'int'> <class 'float'> <class 'str'> <class 'str'>\n"
     ]
    }
   ],
   "source": [
    "print(type(ur_age),type(ur_weight),type(ur_first_name),type(ur_last_name))"
   ]
  },
  {
   "cell_type": "code",
   "execution_count": 9,
   "id": "9dae4fcc-d15a-4825-9efe-40caaa9282d4",
   "metadata": {},
   "outputs": [
    {
     "name": "stdout",
     "output_type": "stream",
     "text": [
      "21 50.6 Mukesh Manral\n"
     ]
    }
   ],
   "source": [
    "print(ur_age,ur_weight,ur_first_name,ur_last_name)"
   ]
  },
  {
   "cell_type": "code",
   "execution_count": 10,
   "id": "3aa7d80c-205f-41d2-addb-c8954f88baa5",
   "metadata": {},
   "outputs": [
    {
     "name": "stdout",
     "output_type": "stream",
     "text": [
      "True\n"
     ]
    }
   ],
   "source": [
    "ur_first_name = 'Mukesh'\n",
    "ur_last_name = 'Mukesh'\n",
    "\n",
    "print( ur_last_name==ur_first_name )"
   ]
  },
  {
   "cell_type": "code",
   "execution_count": 11,
   "id": "96f57a0d-3996-49e9-9b8d-a36ec3c781b0",
   "metadata": {},
   "outputs": [
    {
     "name": "stdout",
     "output_type": "stream",
     "text": [
      "777\n"
     ]
    }
   ],
   "source": [
    "x=777\n",
    "print(x)"
   ]
  },
  {
   "cell_type": "code",
   "execution_count": 19,
   "id": "95cdc74f-5ba8-4261-8339-46f16c7d501c",
   "metadata": {},
   "outputs": [],
   "source": [
    "x=7\n",
    "y=77\n",
    "z=77.7\n",
    "zz='Hi'"
   ]
  },
  {
   "cell_type": "code",
   "execution_count": 20,
   "id": "8241b046-ccca-45be-838e-4cddc253d763",
   "metadata": {},
   "outputs": [],
   "source": [
    "#Arithmetic Opertors"
   ]
  },
  {
   "cell_type": "code",
   "execution_count": 21,
   "id": "4385e2a9-cc59-4576-978e-7a533aea66e7",
   "metadata": {},
   "outputs": [
    {
     "data": {
      "text/plain": [
       "84.7"
      ]
     },
     "execution_count": 21,
     "metadata": {},
     "output_type": "execute_result"
    }
   ],
   "source": [
    "x+z"
   ]
  },
  {
   "cell_type": "code",
   "execution_count": 23,
   "id": "2ed02340-67f1-421c-8941-d0975d0968e9",
   "metadata": {},
   "outputs": [
    {
     "data": {
      "text/plain": [
       "0.7000000000000028"
      ]
     },
     "execution_count": 23,
     "metadata": {},
     "output_type": "execute_result"
    }
   ],
   "source": [
    "z-y"
   ]
  },
  {
   "cell_type": "code",
   "execution_count": 25,
   "id": "b97e9aa2-0b6c-40d0-96bd-8c5a373cc574",
   "metadata": {},
   "outputs": [
    {
     "data": {
      "text/plain": [
       "543.9"
      ]
     },
     "execution_count": 25,
     "metadata": {},
     "output_type": "execute_result"
    }
   ],
   "source": [
    "x*z"
   ]
  },
  {
   "cell_type": "code",
   "execution_count": 26,
   "id": "137c49e5-0641-4bb3-9d04-1e2c5f983922",
   "metadata": {},
   "outputs": [
    {
     "ename": "TypeError",
     "evalue": "unsupported operand type(s) for ^: 'float' and 'int'",
     "output_type": "error",
     "traceback": [
      "\u001b[1;31m---------------------------------------------------------------------------\u001b[0m",
      "\u001b[1;31mTypeError\u001b[0m                                 Traceback (most recent call last)",
      "Cell \u001b[1;32mIn[26], line 1\u001b[0m\n\u001b[1;32m----> 1\u001b[0m z\u001b[38;5;241m^\u001b[39mx\n",
      "\u001b[1;31mTypeError\u001b[0m: unsupported operand type(s) for ^: 'float' and 'int'"
     ]
    }
   ],
   "source": [
    "z^x"
   ]
  },
  {
   "cell_type": "code",
   "execution_count": 27,
   "id": "95cad084-6348-477c-834f-39b2c8279898",
   "metadata": {},
   "outputs": [
    {
     "data": {
      "text/plain": [
       "11.1"
      ]
     },
     "execution_count": 27,
     "metadata": {},
     "output_type": "execute_result"
    }
   ],
   "source": [
    "z/x"
   ]
  },
  {
   "cell_type": "code",
   "execution_count": 28,
   "id": "8058c2b2-7b80-4ba6-9e35-845d5f38fd4d",
   "metadata": {},
   "outputs": [
    {
     "data": {
      "text/plain": [
       "11.0"
      ]
     },
     "execution_count": 28,
     "metadata": {},
     "output_type": "execute_result"
    }
   ],
   "source": [
    "#floor division(ignores decimal) on x and z (gives quotient)\n",
    "z//x"
   ]
  },
  {
   "cell_type": "code",
   "execution_count": 29,
   "id": "b00f8a10-6049-4123-9031-a1b92315c764",
   "metadata": {},
   "outputs": [
    {
     "data": {
      "text/plain": [
       "7.0"
      ]
     },
     "execution_count": 29,
     "metadata": {},
     "output_type": "execute_result"
    }
   ],
   "source": [
    "x%z"
   ]
  },
  {
   "cell_type": "code",
   "execution_count": 30,
   "id": "cdde3d5d-443a-445b-8dce-92a1042ad9e2",
   "metadata": {},
   "outputs": [],
   "source": [
    "#Comparison Opertors "
   ]
  },
  {
   "cell_type": "code",
   "execution_count": 31,
   "id": "b447995f-a2bf-44eb-a353-6d49e1e95c42",
   "metadata": {},
   "outputs": [],
   "source": [
    "result=x<z"
   ]
  },
  {
   "cell_type": "code",
   "execution_count": 32,
   "id": "6575c84f-b6b9-4e00-b6de-fe9585c0277d",
   "metadata": {},
   "outputs": [
    {
     "name": "stdout",
     "output_type": "stream",
     "text": [
      "<class 'bool'>\n"
     ]
    }
   ],
   "source": [
    "print(type(result))"
   ]
  },
  {
   "cell_type": "code",
   "execution_count": 33,
   "id": "fc8f0e54-87df-466f-98ea-f38b8cee4382",
   "metadata": {},
   "outputs": [],
   "source": [
    "result=x<=z"
   ]
  },
  {
   "cell_type": "code",
   "execution_count": 34,
   "id": "8830823b-2484-4976-8b18-e947160459b6",
   "metadata": {},
   "outputs": [],
   "source": [
    "result=x==z"
   ]
  },
  {
   "cell_type": "code",
   "execution_count": 35,
   "id": "7d4961af-ddc8-4a82-b011-42bdaf881f78",
   "metadata": {},
   "outputs": [],
   "source": [
    "result=x>z"
   ]
  },
  {
   "cell_type": "code",
   "execution_count": 36,
   "id": "bd4b4235-a057-484d-a869-4901d9903b84",
   "metadata": {},
   "outputs": [],
   "source": [
    "result=x>=z"
   ]
  },
  {
   "cell_type": "code",
   "execution_count": 37,
   "id": "e4b4c75e-7413-466b-9762-247e1b32c157",
   "metadata": {},
   "outputs": [],
   "source": [
    "result=x!=z"
   ]
  },
  {
   "cell_type": "code",
   "execution_count": 38,
   "id": "aed08f66-2190-4ad7-a05e-2ec0454d89b6",
   "metadata": {},
   "outputs": [],
   "source": [
    "#Logical Opertors"
   ]
  },
  {
   "cell_type": "code",
   "execution_count": 39,
   "id": "5d854f21-bc0a-41de-814d-ae6eb4920618",
   "metadata": {},
   "outputs": [
    {
     "data": {
      "text/plain": [
       "True"
      ]
     },
     "execution_count": 39,
     "metadata": {},
     "output_type": "execute_result"
    }
   ],
   "source": [
    "108==108 and 21==21"
   ]
  },
  {
   "cell_type": "code",
   "execution_count": 40,
   "id": "c77aab5f-9b93-4094-a3b4-545dcac73712",
   "metadata": {},
   "outputs": [
    {
     "data": {
      "text/plain": [
       "False"
      ]
     },
     "execution_count": 40,
     "metadata": {},
     "output_type": "execute_result"
    }
   ],
   "source": [
    "108==1018 and 21==220"
   ]
  },
  {
   "cell_type": "code",
   "execution_count": 41,
   "id": "2e7fc3e4-9343-4da7-9d15-7ed3881f415e",
   "metadata": {},
   "outputs": [
    {
     "data": {
      "text/plain": [
       "True"
      ]
     },
     "execution_count": 41,
     "metadata": {},
     "output_type": "execute_result"
    }
   ],
   "source": [
    "108==108 or 21==11"
   ]
  },
  {
   "cell_type": "code",
   "execution_count": 42,
   "id": "5a54eec7-758a-4920-be36-5d339968f638",
   "metadata": {},
   "outputs": [
    {
     "data": {
      "text/plain": [
       "True"
      ]
     },
     "execution_count": 42,
     "metadata": {},
     "output_type": "execute_result"
    }
   ],
   "source": [
    "(108==108) or (21==11) or (108<=11)"
   ]
  },
  {
   "cell_type": "code",
   "execution_count": 43,
   "id": "331dd20e-666e-4efb-a22e-6d8f8c10d6c0",
   "metadata": {},
   "outputs": [],
   "source": [
    "#if---else => to handle single condition\n",
    "#if---elif---else => to handle multiple conditions"
   ]
  },
  {
   "cell_type": "code",
   "execution_count": 44,
   "id": "a75232f2-4f50-4be8-b69f-fe42c611f399",
   "metadata": {},
   "outputs": [
    {
     "data": {
      "text/plain": [
       "True"
      ]
     },
     "execution_count": 44,
     "metadata": {},
     "output_type": "execute_result"
    }
   ],
   "source": [
    "  money=100000\n",
    "money > 2000"
   ]
  },
  {
   "cell_type": "code",
   "execution_count": 47,
   "id": "d2e1e8da-c55a-4473-b434-aa3ff82ba6b8",
   "metadata": {},
   "outputs": [
    {
     "name": "stdout",
     "output_type": "stream",
     "text": [
      "data science course free 10000\n"
     ]
    }
   ],
   "source": [
    "money=10000\n",
    "if money > 1000:\n",
    "   print(f\"data science course free {money}\")\n",
    "else:\n",
    "   print(\"You have less money then in your account then else will wrok\")"
   ]
  },
  {
   "cell_type": "code",
   "execution_count": 48,
   "id": "3944e102-66d9-477b-9590-16edea639bfa",
   "metadata": {},
   "outputs": [
    {
     "name": "stdout",
     "output_type": "stream",
     "text": [
      "B grade\n"
     ]
    }
   ],
   "source": [
    "test_score=80\n",
    "if( test_score > 80):\n",
    "    print(\"A Grade\")\n",
    "elif(\"test_score > 60 and test_score <80 \"):\n",
    "    print(\"B grade\")\n",
    "else:\n",
    "    print(\"Nothing for you\")"
   ]
  },
  {
   "cell_type": "code",
   "execution_count": null,
   "id": "6228b38a-aee6-4822-be22-f1ea496d5ffa",
   "metadata": {},
   "outputs": [],
   "source": []
  },
  {
   "cell_type": "code",
   "execution_count": 49,
   "id": "30dcfd48-be60-47cc-bb1b-88d34adca9e0",
   "metadata": {},
   "outputs": [],
   "source": [
    "#Python Loops"
   ]
  },
  {
   "cell_type": "code",
   "execution_count": null,
   "id": "5726e789-1eb8-4501-8687-5ccbb98f70c3",
   "metadata": {},
   "outputs": [],
   "source": [
    "\"\"\"\n",
    " for iterating_variable in sequence:\n",
    "     statement(s)\n",
    "\"\"\"     "
   ]
  },
  {
   "cell_type": "code",
   "execution_count": 51,
   "id": "89a5a6b6-d257-4beb-b529-4b7eac164099",
   "metadata": {},
   "outputs": [
    {
     "name": "stdout",
     "output_type": "stream",
     "text": [
      "0\n",
      "1\n",
      "2\n",
      "3\n",
      "4\n",
      "5\n",
      "6\n",
      "7\n",
      "8\n",
      "9\n"
     ]
    }
   ],
   "source": [
    "for iterating_variable in range(10):\n",
    "    print(iterating_variable)"
   ]
  },
  {
   "cell_type": "code",
   "execution_count": 52,
   "id": "aaa1b32b-51e7-4cad-89f8-6a4a381adbc6",
   "metadata": {},
   "outputs": [
    {
     "name": "stdout",
     "output_type": "stream",
     "text": [
      "I love Playing cricket with m friends\n",
      "I love Playing cricket with m friends\n",
      "I love Playing cricket with m friends\n",
      "I love Playing cricket with m friends\n",
      "I love Playing cricket with m friends\n",
      "I love Playing cricket with m friends\n",
      "I love Playing cricket with m friends\n",
      "I love Playing cricket with m friends\n",
      "I love Playing cricket with m friends\n",
      "I love Playing cricket with m friends\n"
     ]
    }
   ],
   "source": [
    "for _ in range(10):\n",
    "    print(\"I love Playing cricket with m friends\")"
   ]
  },
  {
   "cell_type": "code",
   "execution_count": 55,
   "id": "0dda27ca-4730-4865-b237-1a5a1376769f",
   "metadata": {},
   "outputs": [
    {
     "data": {
      "text/plain": [
       "'\\nwhile comparison:\\n    statements(s)\\n'"
      ]
     },
     "execution_count": 55,
     "metadata": {},
     "output_type": "execute_result"
    }
   ],
   "source": [
    "#Syntax of while loop\n",
    "\"\"\"\n",
    "while comparison:\n",
    "    statements(s)\n",
    "\"\"\"      "
   ]
  },
  {
   "cell_type": "code",
   "execution_count": 56,
   "id": "6c42337a-3c36-49e4-8b93-63393685e749",
   "metadata": {},
   "outputs": [
    {
     "name": "stdout",
     "output_type": "stream",
     "text": [
      "1\n",
      "2\n",
      "3\n",
      "4\n",
      "5\n",
      "6\n",
      "7\n",
      "8\n",
      "9\n",
      "10\n"
     ]
    }
   ],
   "source": [
    "n=0\n",
    "while(n<10):\n",
    "    n=n+1\n",
    "    print(n)"
   ]
  },
  {
   "cell_type": "code",
   "execution_count": 57,
   "id": "30b335d1-b1f4-4343-b66e-cb047ebc02c8",
   "metadata": {},
   "outputs": [],
   "source": [
    "#Types of Jump Statements\n",
    "#Break Statements and Continue Statements"
   ]
  },
  {
   "cell_type": "code",
   "execution_count": 59,
   "id": "db586f35-ce7a-43ef-a16b-df56b34ba403",
   "metadata": {},
   "outputs": [],
   "source": [
    "#Break Statement"
   ]
  },
  {
   "cell_type": "code",
   "execution_count": 60,
   "id": "48b9479f-ceab-420f-8948-d7869393875d",
   "metadata": {},
   "outputs": [
    {
     "name": "stdout",
     "output_type": "stream",
     "text": [
      "0\n",
      "1\n",
      "2\n",
      "3\n",
      "4\n"
     ]
    }
   ],
   "source": [
    "for i in range(10):\n",
    "    if i ==5:\n",
    "        break\n",
    "    print(i)    "
   ]
  },
  {
   "cell_type": "code",
   "execution_count": 61,
   "id": "41ee5608-f4e9-41ce-8d7b-28dcdb2ec163",
   "metadata": {},
   "outputs": [],
   "source": [
    "#Continue Statement"
   ]
  },
  {
   "cell_type": "code",
   "execution_count": 62,
   "id": "1f89bbd8-9aa4-465a-9f0d-9b988da3b2fb",
   "metadata": {},
   "outputs": [
    {
     "name": "stdout",
     "output_type": "stream",
     "text": [
      "0\n",
      "1\n",
      "2\n",
      "3\n",
      "4\n",
      "6\n",
      "7\n",
      "8\n",
      "9\n"
     ]
    }
   ],
   "source": [
    "for i in range(10):\n",
    "    if i == 5:\n",
    "        continue\n",
    "    print(i)    "
   ]
  },
  {
   "cell_type": "code",
   "execution_count": 63,
   "id": "e52454fd-0643-4698-8662-78dac9748799",
   "metadata": {},
   "outputs": [],
   "source": [
    "#String Manipulation"
   ]
  },
  {
   "cell_type": "code",
   "execution_count": 64,
   "id": "0cdd3936-342c-43f4-baaf-4a27697dcb7e",
   "metadata": {},
   "outputs": [],
   "source": [
    "string_ = '' or \"\" or \"\"\" \"\"\""
   ]
  },
  {
   "cell_type": "code",
   "execution_count": 65,
   "id": "0e54f6ed-e8e1-481d-b397-d63172363c3a",
   "metadata": {},
   "outputs": [],
   "source": [
    "string=\"We are creating next generation data science eco-system at college rank.\""
   ]
  },
  {
   "cell_type": "code",
   "execution_count": 66,
   "id": "08771a72-9a25-4224-92e7-5425f285d52d",
   "metadata": {},
   "outputs": [
    {
     "name": "stdout",
     "output_type": "stream",
     "text": [
      "72\n"
     ]
    }
   ],
   "source": [
    "print(len(string))"
   ]
  },
  {
   "cell_type": "code",
   "execution_count": 68,
   "id": "25e80339-3aa8-4d2b-9372-cfd792b9ba15",
   "metadata": {},
   "outputs": [
    {
     "data": {
      "text/plain": [
       "'W'"
      ]
     },
     "execution_count": 68,
     "metadata": {},
     "output_type": "execute_result"
    }
   ],
   "source": [
    "string[0]"
   ]
  },
  {
   "cell_type": "code",
   "execution_count": 70,
   "id": "716838c6-6945-48af-94cd-ce3c05084429",
   "metadata": {},
   "outputs": [
    {
     "data": {
      "text/plain": [
       "'k'"
      ]
     },
     "execution_count": 70,
     "metadata": {},
     "output_type": "execute_result"
    }
   ],
   "source": [
    "string[-2]"
   ]
  },
  {
   "cell_type": "code",
   "execution_count": 71,
   "id": "4d64f7a8-2253-4b0c-9167-564d7e1ddb2b",
   "metadata": {},
   "outputs": [],
   "source": [
    "#String Slicing"
   ]
  },
  {
   "cell_type": "code",
   "execution_count": 72,
   "id": "58c4eb36-2e6f-4836-905c-3cc4bef72cf6",
   "metadata": {},
   "outputs": [
    {
     "data": {
      "text/plain": [
       "'We are'"
      ]
     },
     "execution_count": 72,
     "metadata": {},
     "output_type": "execute_result"
    }
   ],
   "source": [
    "string[:6]"
   ]
  },
  {
   "cell_type": "code",
   "execution_count": 75,
   "id": "e3ad576b-6f2c-41b3-a8f1-c4dcf6c8eadd",
   "metadata": {},
   "outputs": [
    {
     "data": {
      "text/plain": [
       "'creating next generation data science eco-system at co'"
      ]
     },
     "execution_count": 75,
     "metadata": {},
     "output_type": "execute_result"
    }
   ],
   "source": [
    "string[7:-11]"
   ]
  },
  {
   "cell_type": "code",
   "execution_count": 76,
   "id": "b91f7416-8b24-4b1c-8fde-2cf6876356d9",
   "metadata": {},
   "outputs": [
    {
     "name": "stdout",
     "output_type": "stream",
     "text": [
      "1\n"
     ]
    }
   ],
   "source": [
    "count = string.count('next')\n",
    "print(count)"
   ]
  },
  {
   "cell_type": "code",
   "execution_count": 77,
   "id": "0f6d2672-bef4-479d-86c1-1099e555b6f3",
   "metadata": {},
   "outputs": [
    {
     "name": "stdout",
     "output_type": "stream",
     "text": [
      "3\n"
     ]
    }
   ],
   "source": [
    "count = string.count('o')\n",
    "print(count)"
   ]
  },
  {
   "cell_type": "code",
   "execution_count": 78,
   "id": "72e72fe9-c45f-4e6b-a7da-49c613502fe7",
   "metadata": {},
   "outputs": [
    {
     "data": {
      "text/plain": [
       "3"
      ]
     },
     "execution_count": 78,
     "metadata": {},
     "output_type": "execute_result"
    }
   ],
   "source": [
    "string.find('d')\n",
    "string.index('a')"
   ]
  },
  {
   "cell_type": "code",
   "execution_count": 79,
   "id": "f5ad476b-c38e-4a63-90a0-283708b40263",
   "metadata": {},
   "outputs": [
    {
     "data": {
      "text/plain": [
       "False"
      ]
     },
     "execution_count": 79,
     "metadata": {},
     "output_type": "execute_result"
    }
   ],
   "source": [
    "string.startswith('w')\n",
    "string.endswith(\"r\")"
   ]
  },
  {
   "cell_type": "code",
   "execution_count": 80,
   "id": "8bff98a7-0428-4bac-b94e-9657ec7d6b2a",
   "metadata": {},
   "outputs": [
    {
     "data": {
      "text/plain": [
       "'WE ARE CREATING NEXT GENERATION DATA SCIENCE ECO-SYSTEM AT COLLEGE RANK.'"
      ]
     },
     "execution_count": 80,
     "metadata": {},
     "output_type": "execute_result"
    }
   ],
   "source": [
    "string.upper()"
   ]
  },
  {
   "cell_type": "code",
   "execution_count": 81,
   "id": "eef4d7b2-ee3e-42c6-8c0d-905b2d37d385",
   "metadata": {},
   "outputs": [
    {
     "name": "stdout",
     "output_type": "stream",
     "text": [
      "False\n",
      "False\n"
     ]
    }
   ],
   "source": [
    "print(string.islower())\n",
    "print(string.isupper())"
   ]
  },
  {
   "cell_type": "code",
   "execution_count": 82,
   "id": "35642daf-4daf-4280-8850-6e0ab715bd30",
   "metadata": {},
   "outputs": [
    {
     "name": "stdout",
     "output_type": "stream",
     "text": [
      "False\n",
      "False\n",
      "False\n"
     ]
    }
   ],
   "source": [
    "###Checking if\n",
    "print(string.isdigit())\n",
    "print(string.isalnum())\n",
    "print(string.isalpha())"
   ]
  },
  {
   "cell_type": "code",
   "execution_count": 84,
   "id": "d0b4c28d-c1a8-4404-9dec-1c335d1d678f",
   "metadata": {},
   "outputs": [],
   "source": [
    "new_str=\"java is easy to learn\""
   ]
  },
  {
   "cell_type": "code",
   "execution_count": 85,
   "id": "54f88f18-3956-4290-a03d-9f2a0e0afa47",
   "metadata": {},
   "outputs": [
    {
     "data": {
      "text/plain": [
       "'python is easy to learn'"
      ]
     },
     "execution_count": 85,
     "metadata": {},
     "output_type": "execute_result"
    }
   ],
   "source": [
    "new_str.replace(\"java\",\"python\")"
   ]
  },
  {
   "cell_type": "code",
   "execution_count": 86,
   "id": "d3d870f7-087a-4b24-93bb-5b4771caddcc",
   "metadata": {},
   "outputs": [
    {
     "data": {
      "text/plain": [
       "['java', 'is', 'easy', 'to', 'learn']"
      ]
     },
     "execution_count": 86,
     "metadata": {},
     "output_type": "execute_result"
    }
   ],
   "source": [
    "new_str.split()"
   ]
  },
  {
   "cell_type": "code",
   "execution_count": 87,
   "id": "baba439a-c9c6-485a-ac0d-1e2752ae9557",
   "metadata": {},
   "outputs": [],
   "source": [
    "#Python Functions"
   ]
  },
  {
   "cell_type": "code",
   "execution_count": 88,
   "id": "aef4f356-2e13-442e-9f18-35a9fe3e4b39",
   "metadata": {},
   "outputs": [
    {
     "data": {
      "text/plain": [
       "'\\ndef function_name():\\n    statement(s)\\n'"
      ]
     },
     "execution_count": 88,
     "metadata": {},
     "output_type": "execute_result"
    }
   ],
   "source": [
    "\"\"\"\n",
    "def function_name():\n",
    "    statement(s)\n",
    "\"\"\"    "
   ]
  },
  {
   "cell_type": "code",
   "execution_count": 89,
   "id": "a1830e07-899c-408f-9b4b-3ce2cc44bf84",
   "metadata": {},
   "outputs": [],
   "source": [
    "#Define the welcome_message function\n",
    "def welcome_message(name):\n",
    "    print(f\"Welcome to Functions, {name}!!!\")"
   ]
  },
  {
   "cell_type": "code",
   "execution_count": 90,
   "id": "1328d870-f04c-4162-b50b-cb7563a346d9",
   "metadata": {},
   "outputs": [
    {
     "name": "stdout",
     "output_type": "stream",
     "text": [
      "Welcome to Functions, Anil Kumar!!!\n"
     ]
    }
   ],
   "source": [
    "#Call the functions with a parameter \n",
    "welcome_message(\"Anil Kumar\")"
   ]
  },
  {
   "cell_type": "code",
   "execution_count": 91,
   "id": "755f441f-ae0b-43e1-b2f2-05a1e6a9ea4c",
   "metadata": {},
   "outputs": [
    {
     "name": "stdout",
     "output_type": "stream",
     "text": [
      "x + y = 7\n"
     ]
    }
   ],
   "source": [
    "# Write a function to add two number which are as 3 and 4\n",
    "# in total Variable store adition of 3 + 4\n",
    "# Print total variable\n",
    "def add():\n",
    "    x=3\n",
    "    y=4\n",
    "    print(f\"x + y = {x+y}\")\n",
    "\n",
    "add()"
   ]
  },
  {
   "cell_type": "code",
   "execution_count": 92,
   "id": "5acb952a-b631-4444-9de9-2d11bd0d5340",
   "metadata": {},
   "outputs": [],
   "source": [
    "# Positional Arguments\n"
   ]
  },
  {
   "cell_type": "code",
   "execution_count": 93,
   "id": "261c0f20-b6fa-444a-aed8-bdca8c8b9a12",
   "metadata": {},
   "outputs": [],
   "source": [
    "def substraction_function(small_number,large_number) :\n",
    "    return ( large_number - small_number)"
   ]
  },
  {
   "cell_type": "code",
   "execution_count": 94,
   "id": "69962a1a-6bd1-4e86-8699-94c5e7823850",
   "metadata": {},
   "outputs": [
    {
     "data": {
      "text/plain": [
       "1"
      ]
     },
     "execution_count": 94,
     "metadata": {},
     "output_type": "execute_result"
    }
   ],
   "source": [
    "# Pass in right order\n",
    "substraction_function(5,6)"
   ]
  },
  {
   "cell_type": "code",
   "execution_count": 95,
   "id": "a8fc8e65-5663-453f-9f49-8e1c3ca295f7",
   "metadata": {},
   "outputs": [
    {
     "data": {
      "text/plain": [
       "-5"
      ]
     },
     "execution_count": 95,
     "metadata": {},
     "output_type": "execute_result"
    }
   ],
   "source": [
    "# Always pass arguments using there name(Keyword arguments)\n",
    "substraction_function(small_number=10,large_number=5)"
   ]
  },
  {
   "cell_type": "code",
   "execution_count": 96,
   "id": "0bfbc446-b59f-4925-9f82-ae67cca73cb1",
   "metadata": {},
   "outputs": [],
   "source": [
    "# Scope of variables means that part of program where we can access particular variable"
   ]
  },
  {
   "cell_type": "code",
   "execution_count": 97,
   "id": "d96e85d6-812b-43de-b44b-9e36df9c85e7",
   "metadata": {},
   "outputs": [],
   "source": [
    "### Observe every output from here onwords ###\n",
    "# Defining a global variable \n",
    "global_variable = 'Variable outside of function'\n",
    "\n",
    "# defining function\n",
    "def random_function():\n",
    "    # accessing variable which is outside of this function\n",
    "    return global_variable"
   ]
  },
  {
   "cell_type": "code",
   "execution_count": 98,
   "id": "daf8e95e-a606-4853-93e8-7f92bd5d2624",
   "metadata": {},
   "outputs": [
    {
     "data": {
      "text/plain": [
       "'Variable outside of function'"
      ]
     },
     "execution_count": 98,
     "metadata": {},
     "output_type": "execute_result"
    }
   ],
   "source": [
    "random_function()"
   ]
  },
  {
   "cell_type": "code",
   "execution_count": 99,
   "id": "721191b1-b5de-4616-8cbf-21efef16e686",
   "metadata": {},
   "outputs": [],
   "source": [
    "## >= Let's see what will happen if we try to change value of global variable from inside of the function"
   ]
  },
  {
   "cell_type": "code",
   "execution_count": 100,
   "id": "1d40b874-dd03-4f80-8ab0-7434803ae0cc",
   "metadata": {},
   "outputs": [],
   "source": [
    "### Observe every output from here from onwords ###\n",
    "# Defining a global variable\n",
    "global_variable = 'Variable outside of function'"
   ]
  },
  {
   "cell_type": "code",
   "execution_count": null,
   "id": "46b781a8-1735-4820-834e-575bb4f3a39b",
   "metadata": {},
   "outputs": [],
   "source": []
  }
 ],
 "metadata": {
  "kernelspec": {
   "display_name": "Python [conda env:base] *",
   "language": "python",
   "name": "conda-base-py"
  },
  "language_info": {
   "codemirror_mode": {
    "name": "ipython",
    "version": 3
   },
   "file_extension": ".py",
   "mimetype": "text/x-python",
   "name": "python",
   "nbconvert_exporter": "python",
   "pygments_lexer": "ipython3",
   "version": "3.12.7"
  }
 },
 "nbformat": 4,
 "nbformat_minor": 5
}
